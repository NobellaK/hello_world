{
 "cells": [
  {
   "cell_type": "code",
   "execution_count": 2,
   "metadata": {},
   "outputs": [
    {
     "name": "stdout",
     "output_type": "stream",
     "text": [
      "Select an operation: \n",
      "1. Add\n",
      "2. Subract\n",
      "3. Multiply\n",
      "4. Divide\n",
      "5. Mod\n"
     ]
    }
   ],
   "source": [
    "# Program for a simple calculator\n",
    "\n",
    "# Addition function \n",
    "def add(x, y) :\n",
    "    return x + y\n",
    "\n",
    "# Subtraction function \n",
    "def subtract(x, y) :\n",
    "    return x - y\n",
    "\n",
    "# Multiplication function \n",
    "def multiply(x, y) :\n",
    "    return x * y\n",
    "\n",
    "# Division function\n",
    "def divide(x, y) :\n",
    "    return x / y\n",
    "\n",
    "# Modulas Operation function \n",
    "def mod(x, y) :\n",
    "    return x % y\n",
    "\n",
    "print('Select an operation: ')\n",
    "print('1. Add')\n",
    "print('2. Subract')\n",
    "print('3. Multiply')\n",
    "print('4. Divide')\n",
    "print('5. Mod')\n",
    "\n",
    "# take input from the user\n",
    "operation = input('Enter choice(1/ 2/ 3/ 4/ 5) : ')\n",
    "\n",
    "# check if operation is one of five options\n",
    "if operation in ('1', '2', '3', '4', '5') :\n",
    "    num1 = float(input('Enter first number: '))\n",
    "    num2 = float(input('Enter second number: '))\n",
    "\n",
    "if operation == '1' :\n",
    "    print(num1, '+', num2, '=', add(num1, num2))\n",
    "elif operation == '2' :\n",
    "    print(num1, '-', num2, '=', subtract(num1, num2))\n",
    "elif operation == '3' :\n",
    "    print(num1, '*', num2, '=', multiply(num1, num2))\n",
    "elif operation == '4' :\n",
    "    print(num1, '/', num2, '=', divide(num1, num2))\n",
    "elif operation == '5' :\n",
    "    print(num1, '%', num2, '=', mod(num1, num2))\n",
    "\n",
    "else :\n",
    "    print('Invalid input')\n",
    "\n"
   ]
  }
 ],
 "metadata": {
  "interpreter": {
   "hash": "442e1e0dba255aa4361a8a69b714952a5035bc7bf24820d076bb17bfab843129"
  },
  "kernelspec": {
   "display_name": "Python 3.10.4 64-bit",
   "language": "python",
   "name": "python3"
  },
  "language_info": {
   "codemirror_mode": {
    "name": "ipython",
    "version": 3
   },
   "file_extension": ".py",
   "mimetype": "text/x-python",
   "name": "python",
   "nbconvert_exporter": "python",
   "pygments_lexer": "ipython3",
   "version": "3.10.4"
  },
  "orig_nbformat": 4
 },
 "nbformat": 4,
 "nbformat_minor": 2
}
